{
 "cells": [
  {
   "cell_type": "markdown",
   "metadata": {
    "deletable": true,
    "editable": true
   },
   "source": [
    "# Data-scraping box-fans"
   ]
  },
  {
   "cell_type": "markdown",
   "metadata": {
    "deletable": true,
    "editable": true
   },
   "source": [
    "Import all the needed modules"
   ]
  },
  {
   "cell_type": "code",
   "execution_count": 1,
   "metadata": {
    "collapsed": true,
    "deletable": true,
    "editable": true
   },
   "outputs": [],
   "source": [
    "import pandas as pd\n",
    "from pandas import ExcelWriter\n",
    "import numpy as np"
   ]
  },
  {
   "cell_type": "markdown",
   "metadata": {
    "deletable": true,
    "editable": true
   },
   "source": [
    "Import planning file to get the cost amount\n"
   ]
  },
  {
   "cell_type": "code",
   "execution_count": 2,
   "metadata": {
    "collapsed": false,
    "deletable": true,
    "editable": true
   },
   "outputs": [
    {
     "data": {
      "text/html": [
       "<div>\n",
       "<table border=\"1\" class=\"dataframe\">\n",
       "  <thead>\n",
       "    <tr style=\"text-align: right;\">\n",
       "      <th></th>\n",
       "      <th>CO</th>\n",
       "      <th>Line</th>\n",
       "      <th>MO no</th>\n",
       "      <th>CO Item no</th>\n",
       "      <th>Cost amount</th>\n",
       "    </tr>\n",
       "  </thead>\n",
       "  <tbody>\n",
       "    <tr>\n",
       "      <th>0</th>\n",
       "      <td>4289413</td>\n",
       "      <td>7</td>\n",
       "      <td>1.002910e+09</td>\n",
       "      <td>KPB 9-9 Boxfan</td>\n",
       "      <td>308.686</td>\n",
       "    </tr>\n",
       "    <tr>\n",
       "      <th>1</th>\n",
       "      <td>4289413</td>\n",
       "      <td>8</td>\n",
       "      <td>1.002910e+09</td>\n",
       "      <td>KPB 9-9 Boxfan</td>\n",
       "      <td>288.385</td>\n",
       "    </tr>\n",
       "    <tr>\n",
       "      <th>2</th>\n",
       "      <td>4289413</td>\n",
       "      <td>11</td>\n",
       "      <td>1.002910e+09</td>\n",
       "      <td>KPB 9-9 Boxfan</td>\n",
       "      <td>310.001</td>\n",
       "    </tr>\n",
       "    <tr>\n",
       "      <th>3</th>\n",
       "      <td>4289413</td>\n",
       "      <td>12</td>\n",
       "      <td>1.002910e+09</td>\n",
       "      <td>KPB 9-9 Boxfan</td>\n",
       "      <td>308.958</td>\n",
       "    </tr>\n",
       "    <tr>\n",
       "      <th>4</th>\n",
       "      <td>4289413</td>\n",
       "      <td>13</td>\n",
       "      <td>1.002910e+09</td>\n",
       "      <td>KPB 9-9 Boxfan</td>\n",
       "      <td>308.958</td>\n",
       "    </tr>\n",
       "  </tbody>\n",
       "</table>\n",
       "</div>"
      ],
      "text/plain": [
       "        CO  Line         MO no      CO Item no  Cost amount\n",
       "0  4289413     7  1.002910e+09  KPB 9-9 Boxfan      308.686\n",
       "1  4289413     8  1.002910e+09  KPB 9-9 Boxfan      288.385\n",
       "2  4289413    11  1.002910e+09  KPB 9-9 Boxfan      310.001\n",
       "3  4289413    12  1.002910e+09  KPB 9-9 Boxfan      308.958\n",
       "4  4289413    13  1.002910e+09  KPB 9-9 Boxfan      308.958"
      ]
     },
     "execution_count": 2,
     "metadata": {},
     "output_type": "execute_result"
    }
   ],
   "source": [
    "planning_file = 'Planning.xlsx'\n",
    "df_planning = pd.read_excel(planning_file,\n",
    "                   usecols = ['CO','Line','MO no','CO Item no','Cost amount'])\n",
    "df_planning.head()"
   ]
  },
  {
   "cell_type": "markdown",
   "metadata": {
    "deletable": true,
    "editable": true
   },
   "source": [
    "Import box-fan type file"
   ]
  },
  {
   "cell_type": "code",
   "execution_count": 3,
   "metadata": {
    "collapsed": false,
    "deletable": true,
    "editable": true
   },
   "outputs": [
    {
     "data": {
      "text/html": [
       "<div>\n",
       "<table border=\"1\" class=\"dataframe\">\n",
       "  <thead>\n",
       "    <tr style=\"text-align: right;\">\n",
       "      <th></th>\n",
       "      <th>CO Item no</th>\n",
       "      <th>Type</th>\n",
       "      <th>Size</th>\n",
       "    </tr>\n",
       "  </thead>\n",
       "  <tbody>\n",
       "    <tr>\n",
       "      <th>0</th>\n",
       "      <td>KPB 9-9 Boxfan</td>\n",
       "      <td>KPB</td>\n",
       "      <td>9</td>\n",
       "    </tr>\n",
       "    <tr>\n",
       "      <th>1</th>\n",
       "      <td>KPB 10-10 Boxfan</td>\n",
       "      <td>KPB</td>\n",
       "      <td>10</td>\n",
       "    </tr>\n",
       "    <tr>\n",
       "      <th>2</th>\n",
       "      <td>KPB 12-12 Boxfan</td>\n",
       "      <td>KPB</td>\n",
       "      <td>12</td>\n",
       "    </tr>\n",
       "    <tr>\n",
       "      <th>3</th>\n",
       "      <td>KPB 15-15 Boxfan</td>\n",
       "      <td>KPB</td>\n",
       "      <td>15</td>\n",
       "    </tr>\n",
       "    <tr>\n",
       "      <th>4</th>\n",
       "      <td>KPB 18-18 Boxfan</td>\n",
       "      <td>KPB</td>\n",
       "      <td>18</td>\n",
       "    </tr>\n",
       "  </tbody>\n",
       "</table>\n",
       "</div>"
      ],
      "text/plain": [
       "         CO Item no Type  Size\n",
       "0    KPB 9-9 Boxfan  KPB     9\n",
       "1  KPB 10-10 Boxfan  KPB    10\n",
       "2  KPB 12-12 Boxfan  KPB    12\n",
       "3  KPB 15-15 Boxfan  KPB    15\n",
       "4  KPB 18-18 Boxfan  KPB    18"
      ]
     },
     "execution_count": 3,
     "metadata": {},
     "output_type": "execute_result"
    }
   ],
   "source": [
    "type_file = 'Type.xlsx'\n",
    "df_type = pd.read_excel(type_file)\n",
    "df_type.head()"
   ]
  },
  {
   "cell_type": "markdown",
   "metadata": {
    "deletable": true,
    "editable": true
   },
   "source": [
    "Import motor file"
   ]
  },
  {
   "cell_type": "code",
   "execution_count": 4,
   "metadata": {
    "collapsed": false,
    "deletable": true,
    "editable": true
   },
   "outputs": [
    {
     "data": {
      "text/html": [
       "<div>\n",
       "<table border=\"1\" class=\"dataframe\">\n",
       "  <thead>\n",
       "    <tr style=\"text-align: right;\">\n",
       "      <th></th>\n",
       "      <th>Component no</th>\n",
       "      <th>Speeds</th>\n",
       "      <th>Motor power</th>\n",
       "    </tr>\n",
       "  </thead>\n",
       "  <tbody>\n",
       "    <tr>\n",
       "      <th>0</th>\n",
       "      <td>109009</td>\n",
       "      <td>One speed</td>\n",
       "      <td>0.25</td>\n",
       "    </tr>\n",
       "    <tr>\n",
       "      <th>1</th>\n",
       "      <td>109010</td>\n",
       "      <td>One speed</td>\n",
       "      <td>0.37</td>\n",
       "    </tr>\n",
       "    <tr>\n",
       "      <th>2</th>\n",
       "      <td>109011</td>\n",
       "      <td>One speed</td>\n",
       "      <td>0.55</td>\n",
       "    </tr>\n",
       "    <tr>\n",
       "      <th>3</th>\n",
       "      <td>109008</td>\n",
       "      <td>One speed</td>\n",
       "      <td>0.75</td>\n",
       "    </tr>\n",
       "    <tr>\n",
       "      <th>4</th>\n",
       "      <td>109012</td>\n",
       "      <td>One speed</td>\n",
       "      <td>1.10</td>\n",
       "    </tr>\n",
       "  </tbody>\n",
       "</table>\n",
       "</div>"
      ],
      "text/plain": [
       "  Component no     Speeds  Motor power\n",
       "0       109009  One speed         0.25\n",
       "1       109010  One speed         0.37\n",
       "2       109011  One speed         0.55\n",
       "3       109008  One speed         0.75\n",
       "4       109012  One speed         1.10"
      ]
     },
     "execution_count": 4,
     "metadata": {},
     "output_type": "execute_result"
    }
   ],
   "source": [
    "motors_file = 'Motors.xlsx'\n",
    "df_motors = pd.read_excel(motors_file)\n",
    "df_motors['Component no'] = df_motors['Component no'].astype(str)\n",
    "df_motors.head()"
   ]
  },
  {
   "cell_type": "markdown",
   "metadata": {
    "deletable": true,
    "editable": true
   },
   "source": [
    "Import inlet file"
   ]
  },
  {
   "cell_type": "code",
   "execution_count": 5,
   "metadata": {
    "collapsed": false,
    "deletable": true,
    "editable": true
   },
   "outputs": [
    {
     "data": {
      "text/html": [
       "<div>\n",
       "<table border=\"1\" class=\"dataframe\">\n",
       "  <thead>\n",
       "    <tr style=\"text-align: right;\">\n",
       "      <th></th>\n",
       "      <th>Component no</th>\n",
       "      <th>Inlet</th>\n",
       "    </tr>\n",
       "  </thead>\n",
       "  <tbody>\n",
       "    <tr>\n",
       "      <th>0</th>\n",
       "      <td>645279</td>\n",
       "      <td>Blind inlet panel</td>\n",
       "    </tr>\n",
       "    <tr>\n",
       "      <th>1</th>\n",
       "      <td>645280</td>\n",
       "      <td>Blind inlet panel</td>\n",
       "    </tr>\n",
       "    <tr>\n",
       "      <th>2</th>\n",
       "      <td>645281</td>\n",
       "      <td>Blind inlet panel</td>\n",
       "    </tr>\n",
       "    <tr>\n",
       "      <th>3</th>\n",
       "      <td>645282</td>\n",
       "      <td>Blind inlet panel</td>\n",
       "    </tr>\n",
       "    <tr>\n",
       "      <th>4</th>\n",
       "      <td>645283</td>\n",
       "      <td>Blind inlet panel</td>\n",
       "    </tr>\n",
       "  </tbody>\n",
       "</table>\n",
       "</div>"
      ],
      "text/plain": [
       "  Component no              Inlet\n",
       "0       645279  Blind inlet panel\n",
       "1       645280  Blind inlet panel\n",
       "2       645281  Blind inlet panel\n",
       "3       645282  Blind inlet panel\n",
       "4       645283  Blind inlet panel"
      ]
     },
     "execution_count": 5,
     "metadata": {},
     "output_type": "execute_result"
    }
   ],
   "source": [
    "inlet_file = 'Inlet.xlsx'\n",
    "df_inlet = pd.read_excel(inlet_file, usecols = ['Component no','Inlet'])\n",
    "df_inlet['Component no'] = df_inlet['Component no'].astype(str)\n",
    "df_inlet.head()"
   ]
  },
  {
   "cell_type": "markdown",
   "metadata": {
    "deletable": true,
    "editable": true
   },
   "source": [
    "Import MO's file"
   ]
  },
  {
   "cell_type": "code",
   "execution_count": 6,
   "metadata": {
    "collapsed": false,
    "deletable": true,
    "editable": true
   },
   "outputs": [
    {
     "data": {
      "text/html": [
       "<div>\n",
       "<table border=\"1\" class=\"dataframe\">\n",
       "  <thead>\n",
       "    <tr style=\"text-align: right;\">\n",
       "      <th></th>\n",
       "      <th>MO no</th>\n",
       "      <th>Component no</th>\n",
       "    </tr>\n",
       "  </thead>\n",
       "  <tbody>\n",
       "    <tr>\n",
       "      <th>0</th>\n",
       "      <td>1003458164</td>\n",
       "      <td>647666</td>\n",
       "    </tr>\n",
       "    <tr>\n",
       "      <th>1</th>\n",
       "      <td>1003458164</td>\n",
       "      <td>109619</td>\n",
       "    </tr>\n",
       "    <tr>\n",
       "      <th>2</th>\n",
       "      <td>1003458164</td>\n",
       "      <td>90840215</td>\n",
       "    </tr>\n",
       "    <tr>\n",
       "      <th>3</th>\n",
       "      <td>1003458164</td>\n",
       "      <td>2482500</td>\n",
       "    </tr>\n",
       "    <tr>\n",
       "      <th>4</th>\n",
       "      <td>1003458164</td>\n",
       "      <td>90846338</td>\n",
       "    </tr>\n",
       "  </tbody>\n",
       "</table>\n",
       "</div>"
      ],
      "text/plain": [
       "        MO no Component no\n",
       "0  1003458164       647666\n",
       "1  1003458164       109619\n",
       "2  1003458164     90840215\n",
       "3  1003458164      2482500\n",
       "4  1003458164     90846338"
      ]
     },
     "execution_count": 6,
     "metadata": {},
     "output_type": "execute_result"
    }
   ],
   "source": [
    "mos_file = 'MOs BF.xlsx'\n",
    "df_mos = pd.read_excel(mos_file, usecols = ['MO no', 'Component no'])\n",
    "df_mos['Component no'] = df_mos['Component no'].astype(str)\n",
    "df_mos.head()"
   ]
  },
  {
   "cell_type": "markdown",
   "metadata": {
    "deletable": true,
    "editable": true
   },
   "source": [
    "Import Classification file"
   ]
  },
  {
   "cell_type": "code",
   "execution_count": 7,
   "metadata": {
    "collapsed": false,
    "deletable": true,
    "editable": true
   },
   "outputs": [
    {
     "data": {
      "text/html": [
       "<div>\n",
       "<table border=\"1\" class=\"dataframe\">\n",
       "  <thead>\n",
       "    <tr style=\"text-align: right;\">\n",
       "      <th></th>\n",
       "      <th>Component no</th>\n",
       "      <th>Type</th>\n",
       "    </tr>\n",
       "  </thead>\n",
       "  <tbody>\n",
       "    <tr>\n",
       "      <th>0</th>\n",
       "      <td>645163</td>\n",
       "      <td>Roof</td>\n",
       "    </tr>\n",
       "    <tr>\n",
       "      <th>1</th>\n",
       "      <td>645164</td>\n",
       "      <td>Roof</td>\n",
       "    </tr>\n",
       "    <tr>\n",
       "      <th>2</th>\n",
       "      <td>645165</td>\n",
       "      <td>Roof</td>\n",
       "    </tr>\n",
       "    <tr>\n",
       "      <th>3</th>\n",
       "      <td>645166</td>\n",
       "      <td>Roof</td>\n",
       "    </tr>\n",
       "    <tr>\n",
       "      <th>4</th>\n",
       "      <td>645167</td>\n",
       "      <td>Roof</td>\n",
       "    </tr>\n",
       "  </tbody>\n",
       "</table>\n",
       "</div>"
      ],
      "text/plain": [
       "  Component no  Type\n",
       "0       645163  Roof\n",
       "1       645164  Roof\n",
       "2       645165  Roof\n",
       "3       645166  Roof\n",
       "4       645167  Roof"
      ]
     },
     "execution_count": 7,
     "metadata": {},
     "output_type": "execute_result"
    }
   ],
   "source": [
    "class_file = 'Classification.xlsx'\n",
    "df_class = pd.read_excel(class_file, usecols = ['Component no', 'Type'])\n",
    "df_class['Component no'] = df_class['Component no'].astype(str)\n",
    "df_class.head()"
   ]
  },
  {
   "cell_type": "markdown",
   "metadata": {
    "deletable": true,
    "editable": true
   },
   "source": [
    "Merge all the box-fans types in the planning file and get the motor power consumption for each row in the new map dataframe"
   ]
  },
  {
   "cell_type": "code",
   "execution_count": 8,
   "metadata": {
    "collapsed": false,
    "deletable": true,
    "editable": true
   },
   "outputs": [
    {
     "data": {
      "text/html": [
       "<div>\n",
       "<table border=\"1\" class=\"dataframe\">\n",
       "  <thead>\n",
       "    <tr style=\"text-align: right;\">\n",
       "      <th></th>\n",
       "      <th>CO</th>\n",
       "      <th>Line</th>\n",
       "      <th>MO no</th>\n",
       "      <th>Cost amount</th>\n",
       "      <th>Type</th>\n",
       "      <th>Size</th>\n",
       "      <th>Speeds</th>\n",
       "      <th>Motor power</th>\n",
       "    </tr>\n",
       "  </thead>\n",
       "  <tbody>\n",
       "    <tr>\n",
       "      <th>0</th>\n",
       "      <td>4625715</td>\n",
       "      <td>2</td>\n",
       "      <td>1.003458e+09</td>\n",
       "      <td>310.148</td>\n",
       "      <td>KPB</td>\n",
       "      <td>9</td>\n",
       "      <td>One speed</td>\n",
       "      <td>0.55</td>\n",
       "    </tr>\n",
       "    <tr>\n",
       "      <th>1</th>\n",
       "      <td>4627387</td>\n",
       "      <td>2</td>\n",
       "      <td>1.003462e+09</td>\n",
       "      <td>301.933</td>\n",
       "      <td>KPB</td>\n",
       "      <td>9</td>\n",
       "      <td>One speed</td>\n",
       "      <td>0.25</td>\n",
       "    </tr>\n",
       "    <tr>\n",
       "      <th>2</th>\n",
       "      <td>4665811</td>\n",
       "      <td>1</td>\n",
       "      <td>1.003517e+09</td>\n",
       "      <td>276.045</td>\n",
       "      <td>KPB</td>\n",
       "      <td>9</td>\n",
       "      <td>One speed</td>\n",
       "      <td>0.25</td>\n",
       "    </tr>\n",
       "    <tr>\n",
       "      <th>3</th>\n",
       "      <td>4665811</td>\n",
       "      <td>3</td>\n",
       "      <td>1.003517e+09</td>\n",
       "      <td>298.370</td>\n",
       "      <td>KPB</td>\n",
       "      <td>9</td>\n",
       "      <td>One speed</td>\n",
       "      <td>0.75</td>\n",
       "    </tr>\n",
       "    <tr>\n",
       "      <th>4</th>\n",
       "      <td>4665811</td>\n",
       "      <td>5</td>\n",
       "      <td>1.003517e+09</td>\n",
       "      <td>290.844</td>\n",
       "      <td>KPB</td>\n",
       "      <td>9</td>\n",
       "      <td>One speed</td>\n",
       "      <td>0.25</td>\n",
       "    </tr>\n",
       "  </tbody>\n",
       "</table>\n",
       "</div>"
      ],
      "text/plain": [
       "        CO  Line         MO no  Cost amount Type  Size     Speeds  Motor power\n",
       "0  4625715     2  1.003458e+09      310.148  KPB     9  One speed         0.55\n",
       "1  4627387     2  1.003462e+09      301.933  KPB     9  One speed         0.25\n",
       "2  4665811     1  1.003517e+09      276.045  KPB     9  One speed         0.25\n",
       "3  4665811     3  1.003517e+09      298.370  KPB     9  One speed         0.75\n",
       "4  4665811     5  1.003517e+09      290.844  KPB     9  One speed         0.25"
      ]
     },
     "execution_count": 8,
     "metadata": {},
     "output_type": "execute_result"
    }
   ],
   "source": [
    "df_map = pd.merge(df_planning, df_type, on='CO Item no')\n",
    "df_map.drop('CO Item no', axis = 1, inplace=True)\n",
    "df_motors_map = pd.merge(df_mos, df_motors, on='Component no')\n",
    "df_motors_map.drop(['Component no'], axis=1, inplace=True)\n",
    "df_map = pd.merge(df_map, df_motors_map, on='MO no')\n",
    "df_map.head()"
   ]
  },
  {
   "cell_type": "markdown",
   "metadata": {
    "deletable": true,
    "editable": true
   },
   "source": [
    "Get the inlet type for each row in the new map dataframe"
   ]
  },
  {
   "cell_type": "code",
   "execution_count": 9,
   "metadata": {
    "collapsed": false,
    "deletable": true,
    "editable": true
   },
   "outputs": [
    {
     "data": {
      "text/html": [
       "<div>\n",
       "<table border=\"1\" class=\"dataframe\">\n",
       "  <thead>\n",
       "    <tr style=\"text-align: right;\">\n",
       "      <th></th>\n",
       "      <th>CO</th>\n",
       "      <th>Line</th>\n",
       "      <th>MO no</th>\n",
       "      <th>Cost amount</th>\n",
       "      <th>Type</th>\n",
       "      <th>Size</th>\n",
       "      <th>Speeds</th>\n",
       "      <th>Motor power</th>\n",
       "      <th>Inlet</th>\n",
       "    </tr>\n",
       "  </thead>\n",
       "  <tbody>\n",
       "    <tr>\n",
       "      <th>0</th>\n",
       "      <td>4625715.0</td>\n",
       "      <td>2.0</td>\n",
       "      <td>1.003458e+09</td>\n",
       "      <td>310.148</td>\n",
       "      <td>KPB</td>\n",
       "      <td>9.0</td>\n",
       "      <td>One speed</td>\n",
       "      <td>0.55</td>\n",
       "      <td>Inlet spigot</td>\n",
       "    </tr>\n",
       "    <tr>\n",
       "      <th>1</th>\n",
       "      <td>4627387.0</td>\n",
       "      <td>2.0</td>\n",
       "      <td>1.003462e+09</td>\n",
       "      <td>301.933</td>\n",
       "      <td>KPB</td>\n",
       "      <td>9.0</td>\n",
       "      <td>One speed</td>\n",
       "      <td>0.25</td>\n",
       "      <td>Inlet spigot</td>\n",
       "    </tr>\n",
       "    <tr>\n",
       "      <th>2</th>\n",
       "      <td>4665811.0</td>\n",
       "      <td>1.0</td>\n",
       "      <td>1.003517e+09</td>\n",
       "      <td>276.045</td>\n",
       "      <td>KPB</td>\n",
       "      <td>9.0</td>\n",
       "      <td>One speed</td>\n",
       "      <td>0.25</td>\n",
       "      <td>Inlet spigot</td>\n",
       "    </tr>\n",
       "    <tr>\n",
       "      <th>3</th>\n",
       "      <td>4665811.0</td>\n",
       "      <td>3.0</td>\n",
       "      <td>1.003517e+09</td>\n",
       "      <td>298.370</td>\n",
       "      <td>KPB</td>\n",
       "      <td>9.0</td>\n",
       "      <td>One speed</td>\n",
       "      <td>0.75</td>\n",
       "      <td>Inlet spigot</td>\n",
       "    </tr>\n",
       "    <tr>\n",
       "      <th>4</th>\n",
       "      <td>4665811.0</td>\n",
       "      <td>5.0</td>\n",
       "      <td>1.003517e+09</td>\n",
       "      <td>290.844</td>\n",
       "      <td>KPB</td>\n",
       "      <td>9.0</td>\n",
       "      <td>One speed</td>\n",
       "      <td>0.25</td>\n",
       "      <td>Inlet spigot</td>\n",
       "    </tr>\n",
       "  </tbody>\n",
       "</table>\n",
       "</div>"
      ],
      "text/plain": [
       "          CO  Line         MO no  Cost amount Type  Size     Speeds  \\\n",
       "0  4625715.0   2.0  1.003458e+09      310.148  KPB   9.0  One speed   \n",
       "1  4627387.0   2.0  1.003462e+09      301.933  KPB   9.0  One speed   \n",
       "2  4665811.0   1.0  1.003517e+09      276.045  KPB   9.0  One speed   \n",
       "3  4665811.0   3.0  1.003517e+09      298.370  KPB   9.0  One speed   \n",
       "4  4665811.0   5.0  1.003517e+09      290.844  KPB   9.0  One speed   \n",
       "\n",
       "   Motor power         Inlet  \n",
       "0         0.55  Inlet spigot  \n",
       "1         0.25  Inlet spigot  \n",
       "2         0.25  Inlet spigot  \n",
       "3         0.75  Inlet spigot  \n",
       "4         0.25  Inlet spigot  "
      ]
     },
     "execution_count": 9,
     "metadata": {},
     "output_type": "execute_result"
    }
   ],
   "source": [
    "df_inlet_map = pd.merge(df_mos, df_inlet, on='Component no')\n",
    "df_inlet_map.drop(['Component no'], axis=1, inplace=True)\n",
    "df_map = pd.merge(df_map, df_inlet_map, on='MO no', how = 'outer')\n",
    "df_map = df_map.fillna(0)\n",
    "df_map['Inlet'] = df_map['Inlet'].replace(0,'')\n",
    "df_map.head()"
   ]
  },
  {
   "cell_type": "markdown",
   "metadata": {
    "deletable": true,
    "editable": true
   },
   "source": [
    "Get the rest of accessories from each row of the MOs file. Create a pivot table and a new df"
   ]
  },
  {
   "cell_type": "code",
   "execution_count": 10,
   "metadata": {
    "collapsed": false,
    "deletable": true,
    "editable": true
   },
   "outputs": [
    {
     "data": {
      "text/html": [
       "<div>\n",
       "<table border=\"1\" class=\"dataframe\">\n",
       "  <thead>\n",
       "    <tr style=\"text-align: right;\">\n",
       "      <th></th>\n",
       "      <th>MO no</th>\n",
       "      <th>DG</th>\n",
       "      <th>Filters</th>\n",
       "      <th>Power Switch</th>\n",
       "      <th>Pressure switch</th>\n",
       "      <th>Roof</th>\n",
       "      <th>Set Out. Rain Protec.</th>\n",
       "      <th>VFD</th>\n",
       "    </tr>\n",
       "  </thead>\n",
       "  <tbody>\n",
       "    <tr>\n",
       "      <th>0</th>\n",
       "      <td>1003425793</td>\n",
       "      <td>0.0</td>\n",
       "      <td>0.0</td>\n",
       "      <td>0.0</td>\n",
       "      <td>0.0</td>\n",
       "      <td>1.0</td>\n",
       "      <td>0.0</td>\n",
       "      <td>0.0</td>\n",
       "    </tr>\n",
       "    <tr>\n",
       "      <th>1</th>\n",
       "      <td>1003452921</td>\n",
       "      <td>0.0</td>\n",
       "      <td>0.0</td>\n",
       "      <td>1.0</td>\n",
       "      <td>0.0</td>\n",
       "      <td>0.0</td>\n",
       "      <td>0.0</td>\n",
       "      <td>0.0</td>\n",
       "    </tr>\n",
       "    <tr>\n",
       "      <th>2</th>\n",
       "      <td>1003452922</td>\n",
       "      <td>0.0</td>\n",
       "      <td>0.0</td>\n",
       "      <td>1.0</td>\n",
       "      <td>0.0</td>\n",
       "      <td>0.0</td>\n",
       "      <td>0.0</td>\n",
       "      <td>0.0</td>\n",
       "    </tr>\n",
       "    <tr>\n",
       "      <th>3</th>\n",
       "      <td>1003458162</td>\n",
       "      <td>0.0</td>\n",
       "      <td>0.0</td>\n",
       "      <td>1.0</td>\n",
       "      <td>0.0</td>\n",
       "      <td>0.0</td>\n",
       "      <td>0.0</td>\n",
       "      <td>0.0</td>\n",
       "    </tr>\n",
       "    <tr>\n",
       "      <th>4</th>\n",
       "      <td>1003458163</td>\n",
       "      <td>0.0</td>\n",
       "      <td>0.0</td>\n",
       "      <td>1.0</td>\n",
       "      <td>0.0</td>\n",
       "      <td>0.0</td>\n",
       "      <td>0.0</td>\n",
       "      <td>0.0</td>\n",
       "    </tr>\n",
       "  </tbody>\n",
       "</table>\n",
       "</div>"
      ],
      "text/plain": [
       "        MO no   DG  Filters  Power Switch  Pressure switch  Roof  \\\n",
       "0  1003425793  0.0      0.0           0.0              0.0   1.0   \n",
       "1  1003452921  0.0      0.0           1.0              0.0   0.0   \n",
       "2  1003452922  0.0      0.0           1.0              0.0   0.0   \n",
       "3  1003458162  0.0      0.0           1.0              0.0   0.0   \n",
       "4  1003458163  0.0      0.0           1.0              0.0   0.0   \n",
       "\n",
       "   Set Out. Rain Protec.  VFD  \n",
       "0                    0.0  0.0  \n",
       "1                    0.0  0.0  \n",
       "2                    0.0  0.0  \n",
       "3                    0.0  0.0  \n",
       "4                    0.0  0.0  "
      ]
     },
     "execution_count": 10,
     "metadata": {},
     "output_type": "execute_result"
    }
   ],
   "source": [
    "df_pivot = pd.merge(df_mos, df_class, on='Component no')\n",
    "df_pivot = pd.pivot_table(df_pivot, values = 'Component no', index = 'MO no', columns = 'Type', aggfunc = 'count')\n",
    "df_pivot = pd.DataFrame(df_pivot.to_records())\n",
    "\n",
    "# Create only one check for each accessory\n",
    "div = df_pivot.iloc[:, 1:]/df_pivot.iloc[:, 1:]\n",
    "df_pivot = pd.concat([df_pivot['MO no'], div], axis = 1)\n",
    "df_pivot = df_pivot.fillna(0)\n",
    "df_pivot.head()"
   ]
  },
  {
   "cell_type": "markdown",
   "metadata": {
    "deletable": true,
    "editable": true
   },
   "source": [
    "Merge to the final dataframe and remove zero-value rows. Rearrange the columns"
   ]
  },
  {
   "cell_type": "code",
   "execution_count": 11,
   "metadata": {
    "collapsed": false,
    "deletable": true,
    "editable": true
   },
   "outputs": [
    {
     "data": {
      "text/html": [
       "<div>\n",
       "<table border=\"1\" class=\"dataframe\">\n",
       "  <thead>\n",
       "    <tr style=\"text-align: right;\">\n",
       "      <th></th>\n",
       "      <th>CO</th>\n",
       "      <th>Line</th>\n",
       "      <th>MO no</th>\n",
       "      <th>Cost amount</th>\n",
       "      <th>Type</th>\n",
       "      <th>Size</th>\n",
       "      <th>Speeds</th>\n",
       "      <th>Motor power</th>\n",
       "      <th>Inlet</th>\n",
       "      <th>Power Switch</th>\n",
       "      <th>Pressure switch</th>\n",
       "      <th>Roof</th>\n",
       "      <th>Set Out. Rain Protec.</th>\n",
       "      <th>VFD</th>\n",
       "      <th>Filters</th>\n",
       "      <th>DG</th>\n",
       "    </tr>\n",
       "  </thead>\n",
       "  <tbody>\n",
       "    <tr>\n",
       "      <th>0</th>\n",
       "      <td>4625715.0</td>\n",
       "      <td>2.0</td>\n",
       "      <td>1.003458e+09</td>\n",
       "      <td>310.148</td>\n",
       "      <td>KPB</td>\n",
       "      <td>9.0</td>\n",
       "      <td>One speed</td>\n",
       "      <td>0.55</td>\n",
       "      <td>Inlet spigot</td>\n",
       "      <td>1.0</td>\n",
       "      <td>0.0</td>\n",
       "      <td>0.0</td>\n",
       "      <td>0.0</td>\n",
       "      <td>0.0</td>\n",
       "      <td>0.0</td>\n",
       "      <td>0.0</td>\n",
       "    </tr>\n",
       "    <tr>\n",
       "      <th>1</th>\n",
       "      <td>4627387.0</td>\n",
       "      <td>2.0</td>\n",
       "      <td>1.003462e+09</td>\n",
       "      <td>301.933</td>\n",
       "      <td>KPB</td>\n",
       "      <td>9.0</td>\n",
       "      <td>One speed</td>\n",
       "      <td>0.25</td>\n",
       "      <td>Inlet spigot</td>\n",
       "      <td>0.0</td>\n",
       "      <td>0.0</td>\n",
       "      <td>0.0</td>\n",
       "      <td>0.0</td>\n",
       "      <td>0.0</td>\n",
       "      <td>0.0</td>\n",
       "      <td>1.0</td>\n",
       "    </tr>\n",
       "    <tr>\n",
       "      <th>2</th>\n",
       "      <td>4665811.0</td>\n",
       "      <td>1.0</td>\n",
       "      <td>1.003517e+09</td>\n",
       "      <td>276.045</td>\n",
       "      <td>KPB</td>\n",
       "      <td>9.0</td>\n",
       "      <td>One speed</td>\n",
       "      <td>0.25</td>\n",
       "      <td>Inlet spigot</td>\n",
       "      <td>0.0</td>\n",
       "      <td>0.0</td>\n",
       "      <td>0.0</td>\n",
       "      <td>0.0</td>\n",
       "      <td>0.0</td>\n",
       "      <td>0.0</td>\n",
       "      <td>0.0</td>\n",
       "    </tr>\n",
       "    <tr>\n",
       "      <th>3</th>\n",
       "      <td>4665811.0</td>\n",
       "      <td>3.0</td>\n",
       "      <td>1.003517e+09</td>\n",
       "      <td>298.370</td>\n",
       "      <td>KPB</td>\n",
       "      <td>9.0</td>\n",
       "      <td>One speed</td>\n",
       "      <td>0.75</td>\n",
       "      <td>Inlet spigot</td>\n",
       "      <td>0.0</td>\n",
       "      <td>0.0</td>\n",
       "      <td>0.0</td>\n",
       "      <td>0.0</td>\n",
       "      <td>0.0</td>\n",
       "      <td>0.0</td>\n",
       "      <td>0.0</td>\n",
       "    </tr>\n",
       "    <tr>\n",
       "      <th>4</th>\n",
       "      <td>4665811.0</td>\n",
       "      <td>5.0</td>\n",
       "      <td>1.003517e+09</td>\n",
       "      <td>290.844</td>\n",
       "      <td>KPB</td>\n",
       "      <td>9.0</td>\n",
       "      <td>One speed</td>\n",
       "      <td>0.25</td>\n",
       "      <td>Inlet spigot</td>\n",
       "      <td>0.0</td>\n",
       "      <td>0.0</td>\n",
       "      <td>0.0</td>\n",
       "      <td>0.0</td>\n",
       "      <td>0.0</td>\n",
       "      <td>1.0</td>\n",
       "      <td>0.0</td>\n",
       "    </tr>\n",
       "  </tbody>\n",
       "</table>\n",
       "</div>"
      ],
      "text/plain": [
       "          CO  Line         MO no  Cost amount Type  Size     Speeds  \\\n",
       "0  4625715.0   2.0  1.003458e+09      310.148  KPB   9.0  One speed   \n",
       "1  4627387.0   2.0  1.003462e+09      301.933  KPB   9.0  One speed   \n",
       "2  4665811.0   1.0  1.003517e+09      276.045  KPB   9.0  One speed   \n",
       "3  4665811.0   3.0  1.003517e+09      298.370  KPB   9.0  One speed   \n",
       "4  4665811.0   5.0  1.003517e+09      290.844  KPB   9.0  One speed   \n",
       "\n",
       "   Motor power         Inlet  Power Switch  Pressure switch  Roof  \\\n",
       "0         0.55  Inlet spigot           1.0              0.0   0.0   \n",
       "1         0.25  Inlet spigot           0.0              0.0   0.0   \n",
       "2         0.25  Inlet spigot           0.0              0.0   0.0   \n",
       "3         0.75  Inlet spigot           0.0              0.0   0.0   \n",
       "4         0.25  Inlet spigot           0.0              0.0   0.0   \n",
       "\n",
       "   Set Out. Rain Protec.  VFD  Filters   DG  \n",
       "0                    0.0  0.0      0.0  0.0  \n",
       "1                    0.0  0.0      0.0  1.0  \n",
       "2                    0.0  0.0      0.0  0.0  \n",
       "3                    0.0  0.0      0.0  0.0  \n",
       "4                    0.0  0.0      1.0  0.0  "
      ]
     },
     "execution_count": 11,
     "metadata": {},
     "output_type": "execute_result"
    }
   ],
   "source": [
    "df_map = pd.merge(df_map, df_pivot, on='MO no', how='outer')\n",
    "df_map = df_map.fillna(0)\n",
    "df_map = df_map[df_map['CO'] != 0]\n",
    "cols = ['CO', 'Line', 'MO no', 'Cost amount', 'Type', 'Size', 'Speeds', 'Motor power',\n",
    "       'Inlet', 'Power Switch', 'Pressure switch', 'Roof', 'Set Out. Rain Protec.', 'VFD',\n",
    "       'Filters', 'DG']\n",
    "df_map = df_map[cols]\n",
    "df_map.head()"
   ]
  },
  {
   "cell_type": "markdown",
   "metadata": {
    "deletable": true,
    "editable": true
   },
   "source": [
    "Export to Excel"
   ]
  },
  {
   "cell_type": "code",
   "execution_count": 12,
   "metadata": {
    "collapsed": true,
    "deletable": true,
    "editable": true
   },
   "outputs": [],
   "source": [
    "name = 'Pivot table box-fans.xlsx'\n",
    "writer = pd.ExcelWriter(name)\n",
    "df_map.to_excel(writer, index = False)\n",
    "writer.save()"
   ]
  },
  {
   "cell_type": "markdown",
   "metadata": {},
   "source": [
    "Histograms"
   ]
  },
  {
   "cell_type": "code",
   "execution_count": 21,
   "metadata": {
    "collapsed": false
   },
   "outputs": [
    {
     "data": {
      "text/html": [
       "<div>\n",
       "<table border=\"1\" class=\"dataframe\">\n",
       "  <thead>\n",
       "    <tr style=\"text-align: right;\">\n",
       "      <th></th>\n",
       "      <th>Net difference</th>\n",
       "      <th>Percentage</th>\n",
       "    </tr>\n",
       "  </thead>\n",
       "  <tbody>\n",
       "    <tr>\n",
       "      <th>0</th>\n",
       "      <td>181.637792</td>\n",
       "      <td>0.098730</td>\n",
       "    </tr>\n",
       "    <tr>\n",
       "      <th>1</th>\n",
       "      <td>63.868442</td>\n",
       "      <td>0.081429</td>\n",
       "    </tr>\n",
       "    <tr>\n",
       "      <th>2</th>\n",
       "      <td>63.868442</td>\n",
       "      <td>0.081429</td>\n",
       "    </tr>\n",
       "    <tr>\n",
       "      <th>3</th>\n",
       "      <td>63.868442</td>\n",
       "      <td>0.081429</td>\n",
       "    </tr>\n",
       "    <tr>\n",
       "      <th>4</th>\n",
       "      <td>63.868442</td>\n",
       "      <td>0.081429</td>\n",
       "    </tr>\n",
       "  </tbody>\n",
       "</table>\n",
       "</div>"
      ],
      "text/plain": [
       "   Net difference  Percentage\n",
       "0      181.637792    0.098730\n",
       "1       63.868442    0.081429\n",
       "2       63.868442    0.081429\n",
       "3       63.868442    0.081429\n",
       "4       63.868442    0.081429"
      ]
     },
     "execution_count": 21,
     "metadata": {},
     "output_type": "execute_result"
    }
   ],
   "source": [
    "df_dif = pd.read_excel('r-c.xlsx')\n",
    "df_dif.head()"
   ]
  },
  {
   "cell_type": "markdown",
   "metadata": {},
   "source": [
    "Plot histograms"
   ]
  },
  {
   "cell_type": "code",
   "execution_count": 22,
   "metadata": {
    "collapsed": false
   },
   "outputs": [
    {
     "data": {
      "text/plain": [
       "<matplotlib.axes._subplots.AxesSubplot at 0xba5fa90>"
      ]
     },
     "execution_count": 22,
     "metadata": {},
     "output_type": "execute_result"
    },
    {
     "data": {
      "image/png": "[encoded data removed]",
      "text/plain": [
       "<matplotlib.figure.Figure at 0xba43668>"
      ]
     },
     "metadata": {},
     "output_type": "display_data"
    }
   ],
   "source": [
    "import seaborn as sns\n",
    "%matplotlib inline\n",
    "\n",
    "sns.distplot(df_dif['Net difference'],kde=False)"
   ]
  },
  {
   "cell_type": "code",
   "execution_count": 23,
   "metadata": {
    "collapsed": false
   },
   "outputs": [
    {
     "data": {
      "text/plain": [
       "<matplotlib.axes._subplots.AxesSubplot at 0xb4f75f8>"
      ]
     },
     "execution_count": 23,
     "metadata": {},
     "output_type": "execute_result"
    },
    {
     "data": {
      "image/png": "[encoded data removed]",
      "text/plain": [
       "<matplotlib.figure.Figure at 0xb8c3fd0>"
      ]
     },
     "metadata": {},
     "output_type": "display_data"
    }
   ],
   "source": [
    "sns.distplot(df_dif['Percentage'], kde=False)"
   ]
  }
 ],
 "metadata": {
  "anaconda-cloud": {},
  "kernelspec": {
   "display_name": "Python [default]",
   "language": "python",
   "name": "python3"
  },
  "language_info": {
   "codemirror_mode": {
    "name": "ipython",
    "version": 3
   },
   "file_extension": ".py",
   "mimetype": "text/x-python",
   "name": "python",
   "nbconvert_exporter": "python",
   "pygments_lexer": "ipython3",
   "version": "3.5.2"
  }
 },
 "nbformat": 4,
 "nbformat_minor": 2
}
